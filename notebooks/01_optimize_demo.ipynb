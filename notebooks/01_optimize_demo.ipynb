{
 "nbformat": 4,
 "nbformat_minor": 5,
 "metadata": {},
 "cells": [
  {
   "cell_type": "markdown",
   "metadata": {},
   "source": "# Head-count optimisation demo"
  },
  {
   "cell_type": "code",
   "execution_count": null,
   "metadata": {},
   "outputs": [],
   "source": "import pandas as pd, math, matplotlib.pyplot as plt\n\ndf = pd.read_csv('../data/raw/shift_productivity_sample.csv')\ndf['headcount_needed'] = (df['units_scanned'] / df['target_rate']).apply(math.ceil)\n\ndf.groupby(['date','shift'])['headcount_needed']\\\n  .sum().unstack().plot(kind='bar', figsize=(8,4), title='FTE per shift')\nplt.tight_layout()"
  }
 ]
}

